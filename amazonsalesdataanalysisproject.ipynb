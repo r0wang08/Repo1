{
 "cells": [
  {
   "cell_type": "code",
   "execution_count": null,
   "metadata": {},
   "outputs": [],
   "source": [
    "import pandas as pd\n",
    "\n",
    "df = pd.read_csv('amazon.csv')\n",
    "#print(df.head())\n",
    "df.info()\n",
    "\n",
    "#print(df.isnull().sum())\n",
    "\n"
   ]
  },
  {
   "cell_type": "code",
   "execution_count": null,
   "metadata": {},
   "outputs": [],
   "source": [
    "df = df.dropna()\n",
    "\n",
    "#check if null values are dropped\n",
    "#print(df.isnull().sum())\n",
    "#print(df.head())\n",
    "\n",
    "\n",
    "#df = pd.read_csv('amazon.csv')\n",
    "df.head()"
   ]
  },
  {
   "cell_type": "code",
   "execution_count": 5,
   "metadata": {},
   "outputs": [
    {
     "name": "stdout",
     "output_type": "stream",
     "text": [
      "[('the', 11501), ('is', 9753), ('and', 9153), ('to', 7701), ('for', 6281), ('a', 5830), ('it', 5668), ('I', 4495), ('of', 4470), ('this', 3838), ('in', 3793), ('good', 3277), ('with', 3181), ('not', 2965), ('but', 2669), ('you', 2291), ('on', 2227), ('as', 2094), ('product', 2080), ('my', 2051), ('have', 2021), ('very', 1973), ('that', 1819), ('are', 1770), ('quality', 1627), ('be', 1603), ('was', 1589), ('The', 1364), ('can', 1353), ('at', 1263), ('so', 1214), ('if', 1192), ('or', 1180), ('from', 1177), ('use', 1128), ('like', 1099), ('will', 1058), ('which', 1007), ('one', 1005), ('cable', 1004), ('has', 975), ('i', 973), ('also', 957), ('using', 897), (\"it's\", 895), ('price', 880), ('after', 869), ('all', 854), ('It', 832), ('its', 829), ('only', 819), ('no', 789), ('phone', 745), ('more', 744), ('than', 712), ('when', 704), ('any', 658), ('just', 657), ('charging', 656), ('other', 652), ('But', 647), ('your', 642), ('working', 636), ('get', 626), ('am', 622), ('easy', 617), ('an', 611), ('battery', 609), ('buy', 608), ('used', 588), ('time', 582), ('&', 579), ('some', 578), (',', 576), ('-', 549), ('by', 545), ('even', 542), ('been', 541), ('watch', 526), ('go', 515), ('really', 513), ('they', 501), ('works', 500), ('about', 499), ('better', 490), ('would', 488), ('then', 488), ('had', 485), ('up', 481), ('sound', 481), ('well', 466), ('2', 463), ('me', 457), ('there', 454), ('got', 451), ('best', 447), ('too', 438), ('much', 422), (\"don't\", 418), ('good.', 417)]\n"
     ]
    }
   ],
   "source": [
    "from collections import Counter\n",
    "\n",
    "#function to make a list to store all keywords in column of 'review_content'\n",
    "#loop over keywords\n",
    "def find_most_mentioned_keywords(df, num_keywords):\n",
    "    all_keywords = []\n",
    "    for review in df['review_content']:\n",
    "        keywords = review.split()\n",
    "        all_keywords.extend(keywords)\n",
    "    keyword_counts = Counter(all_keywords)\n",
    "    return keyword_counts.most_common(num_keywords)\n",
    "\n",
    "#df = pd.read_csv('your_data.csv')\n",
    "top_keywords = find_most_mentioned_keywords(df, 100)\n",
    "print(top_keywords)"
   ]
  }
 ],
 "metadata": {
  "kernelspec": {
   "display_name": "Python 3",
   "language": "python",
   "name": "python3"
  },
  "language_info": {
   "codemirror_mode": {
    "name": "ipython",
    "version": 3
   },
   "file_extension": ".py",
   "mimetype": "text/x-python",
   "name": "python",
   "nbconvert_exporter": "python",
   "pygments_lexer": "ipython3",
   "version": "3.11.2"
  },
  "orig_nbformat": 4,
  "vscode": {
   "interpreter": {
    "hash": "f0b03264868f09033872a8726c5b54e4b135a0618b1caeaa05107d97bf0ae48a"
   }
  }
 },
 "nbformat": 4,
 "nbformat_minor": 2
}
